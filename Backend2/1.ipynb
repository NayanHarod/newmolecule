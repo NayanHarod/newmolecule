{
 "cells": [
  {
   "cell_type": "code",
   "execution_count": 2,
   "metadata": {},
   "outputs": [],
   "source": [
    "data  = [{'mol_name': 'O=C(O)c1cc(-c2ccc(/C=N/Nc3nc(Nc4ccc(F)cc4)nc(N4CCCCC4)n3)o2)ccc1OCC#N', 'Molclass': 'Inactive', 'probability': 0.13}, {'mol_name': 'CCOCCc1cc(-c2ccc(S(C)(=O)=O)cc2)n(-c2cccc(F)c2)c1C', 'Molclass': 'Active', 'probability': 0.71}, {'mol_name': 'COC1CCC2(CC1)Cc1ccc(-c3ccc(F)c(Cl)c3)cc1C21N=C(N)N(Cc2ccccc2)C1=O', 'Molclass': 'Active', 'probability': 0.95}, {'mol_name': 'Cc1cccc(OCC(=O)Nc2cccc([C@@]3(C(F)F)N=C(N)O[C@@H]4C[C@@H]43)c2)c1', 'Molclass': 'Inactive', 'probability': 0.16}]"
   ]
  },
  {
   "cell_type": "code",
   "execution_count": 8,
   "metadata": {},
   "outputs": [
    {
     "data": {
      "text/plain": [
       "'O=C(O)c1cc(-c2ccc(/C=N/Nc3nc(Nc4ccc(F)cc4)nc(N4CCCCC4)n3)o2)ccc1OCC#N'"
      ]
     },
     "execution_count": 8,
     "metadata": {},
     "output_type": "execute_result"
    }
   ],
   "source": []
  }
 ],
 "metadata": {
  "kernelspec": {
   "display_name": "Nenv123",
   "language": "python",
   "name": "python3"
  },
  "language_info": {
   "codemirror_mode": {
    "name": "ipython",
    "version": 3
   },
   "file_extension": ".py",
   "mimetype": "text/x-python",
   "name": "python",
   "nbconvert_exporter": "python",
   "pygments_lexer": "ipython3",
   "version": "3.10.8"
  }
 },
 "nbformat": 4,
 "nbformat_minor": 2
}
